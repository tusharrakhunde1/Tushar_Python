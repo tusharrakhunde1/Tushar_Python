{
  "nbformat": 4,
  "nbformat_minor": 0,
  "metadata": {
    "colab": {
      "provenance": []
    },
    "kernelspec": {
      "name": "python3",
      "display_name": "Python 3"
    },
    "language_info": {
      "name": "python"
    }
  },
  "cells": [
    {
      "cell_type": "code",
      "execution_count": null,
      "metadata": {
        "colab": {
          "base_uri": "https://localhost:8080/"
        },
        "id": "HpmbKqI7jltH",
        "outputId": "0ec1bf68-5f68-4ec7-f746-ea081ec8cab5"
      },
      "outputs": [
        {
          "output_type": "stream",
          "name": "stdout",
          "text": [
            "hello world\n"
          ]
        }
      ],
      "source": [
        "print(\"hello world\")"
      ]
    },
    {
      "cell_type": "code",
      "source": [
        "##fibonachee Series\n",
        "\n",
        "def fibonachee(n):\n",
        "    fib=[0,1]\n",
        "    while len(fib)<n:\n",
        "      fib.append(fib[-1]+fib[-2])\n",
        "    return fib\n",
        "\n",
        "num=20\n",
        "series=fibonachee(num)\n",
        "print( f\"Fiboo : {series}\")"
      ],
      "metadata": {
        "id": "ShBp6moMvg2e",
        "outputId": "5d9cbca1-8f5b-4e9c-bf41-b92930947705",
        "colab": {
          "base_uri": "https://localhost:8080/"
        }
      },
      "execution_count": 14,
      "outputs": [
        {
          "output_type": "stream",
          "name": "stdout",
          "text": [
            "Fiboo : [0, 1, 1, 2, 3, 5, 8, 13, 21, 34, 55, 89, 144, 233, 377, 610, 987, 1597, 2584, 4181]\n"
          ]
        }
      ]
    },
    {
      "cell_type": "code",
      "source": [
        "#Iterate to List\n",
        "List=[\"I\",\"am\",\"Tushar\"]\n",
        "for i in List:\n",
        "  print(i)\n"
      ],
      "metadata": {
        "id": "tZjWkqbg1XNO",
        "outputId": "644b0037-9827-4fc7-8655-48bd2360b57e",
        "colab": {
          "base_uri": "https://localhost:8080/"
        }
      },
      "execution_count": 16,
      "outputs": [
        {
          "output_type": "stream",
          "name": "stdout",
          "text": [
            "I\n",
            "am\n",
            "Tushar\n"
          ]
        }
      ]
    },
    {
      "cell_type": "code",
      "source": [
        "#Iterate to List with while\n",
        "n=0\n",
        "List=[\"I\",\"am\",\"Tushar\"]\n",
        "while n<len(List):\n",
        "  print(List[n])\n",
        "  n+=1"
      ],
      "metadata": {
        "id": "NAjJcjjH16xz",
        "outputId": "715a4857-ca66-45bd-d2cb-738b21c6ea7e",
        "colab": {
          "base_uri": "https://localhost:8080/"
        }
      },
      "execution_count": 22,
      "outputs": [
        {
          "output_type": "stream",
          "name": "stdout",
          "text": [
            "I\n",
            "am\n",
            "Tushar\n"
          ]
        }
      ]
    },
    {
      "cell_type": "code",
      "source": [
        "#try statement\n",
        "age=34\n",
        "try:\n",
        "  if age<40:\n",
        "    print(\"Young\")\n",
        "  else:\n",
        "    print(\"old\")\n",
        "except:\n",
        "  print(\"Something went wrong\")\n",
        "finally:\n",
        "  print(\"Done\")"
      ],
      "metadata": {
        "id": "YJABkRTW5gVV",
        "outputId": "9fe84a0a-1ffb-438b-ae7d-3a485c5d753b",
        "colab": {
          "base_uri": "https://localhost:8080/"
        }
      },
      "execution_count": 24,
      "outputs": [
        {
          "output_type": "stream",
          "name": "stdout",
          "text": [
            "Young\n",
            "Done\n"
          ]
        }
      ]
    },
    {
      "cell_type": "code",
      "source": [
        "#__init__\n",
        "class Person:\n",
        "  def __init__(self,name,age):\n",
        "    self.name=name\n",
        "    self.age=age\n",
        "  def __str__(self):\n",
        "    return f\"Detail {self.name}({self.age})\"\n",
        "\n",
        "detail=Person(\"Tushar\",\"34\")\n",
        "print(detail)"
      ],
      "metadata": {
        "id": "fLCaOwI07k-K",
        "outputId": "a225894f-b5e3-4509-b247-059aaf0b17cd",
        "colab": {
          "base_uri": "https://localhost:8080/"
        }
      },
      "execution_count": 29,
      "outputs": [
        {
          "output_type": "stream",
          "name": "stdout",
          "text": [
            "Detail Tushar(34)\n"
          ]
        }
      ]
    },
    {
      "cell_type": "code",
      "source": [
        "from posixpath import join\n",
        "#merge dataset\n",
        "import pandas as pd\n",
        "data1 = {'id': [1, 2, 3, 4], 'name': ['Alice', 'Bob', 'Charlie', 'David']}\n",
        "data2 = {'id': [3, 4, 5, 6], 'age': [25, 30, 35, 40]}\n",
        "df1=pd.DataFrame(data1)\n",
        "df2=pd.DataFrame(data2)\n",
        "print(df1)\n",
        "print(df2)\n",
        "merged_pd=pd.merge(df1,df2,on='id',how='left')\n",
        "print(merged_pd)"
      ],
      "metadata": {
        "id": "t5L20jz6-QDB",
        "outputId": "9eb8c3f6-fb60-4b72-9113-6c2e586757e2",
        "colab": {
          "base_uri": "https://localhost:8080/"
        }
      },
      "execution_count": 38,
      "outputs": [
        {
          "output_type": "stream",
          "name": "stdout",
          "text": [
            "   id     name\n",
            "0   1    Alice\n",
            "1   2      Bob\n",
            "2   3  Charlie\n",
            "3   4    David\n",
            "   id  age\n",
            "0   3   25\n",
            "1   4   30\n",
            "2   5   35\n",
            "3   6   40\n",
            "   id     name   age\n",
            "0   1    Alice   NaN\n",
            "1   2      Bob   NaN\n",
            "2   3  Charlie  25.0\n",
            "3   4    David  30.0\n"
          ]
        }
      ]
    }
  ]
}