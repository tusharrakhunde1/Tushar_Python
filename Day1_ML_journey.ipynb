{
  "nbformat": 4,
  "nbformat_minor": 0,
  "metadata": {
    "colab": {
      "provenance": []
    },
    "kernelspec": {
      "name": "python3",
      "display_name": "Python 3"
    },
    "language_info": {
      "name": "python"
    }
  },
  "cells": [
    {
      "cell_type": "code",
      "execution_count": null,
      "metadata": {
        "colab": {
          "base_uri": "https://localhost:8080/"
        },
        "id": "HpmbKqI7jltH",
        "outputId": "0ec1bf68-5f68-4ec7-f746-ea081ec8cab5"
      },
      "outputs": [
        {
          "output_type": "stream",
          "name": "stdout",
          "text": [
            "hello world\n"
          ]
        }
      ],
      "source": [
        "print(\"hello world\")"
      ]
    },
    {
      "cell_type": "code",
      "source": [
        "!pip install pdf2docx\n",
        "from pdf2docx import Converter\n",
        "import os\n",
        "\n",
        "def pdfconvert(pdf_path,word_path=None):\n",
        "  word_path=os.path.splitext(pdf_path)[0]+'.docx'\n",
        "  try:\n",
        "    cv=Converter(pdf_path)\n",
        "    cv.convert(word_path,start=0,end=None)\n",
        "    cv.close()\n",
        "    print(\"Done\")\n",
        "    return word_path\n",
        "  except Exception as e:\n",
        "    print(\"failed\")\n",
        "    return None\n",
        "\n",
        "if(__name__==\"__main__\"):\n",
        "  input_pdf=\"test_pdf.pdf\"\n",
        "  output_word=''\n",
        "  pdfconvert(input_pdf,output_word)\n",
        "\n",
        ""
      ],
      "metadata": {
        "id": "34ZbDQBAxLWX",
        "outputId": "610cfc90-fdd9-4a8f-8f39-9c0bd5cfb26b",
        "colab": {
          "base_uri": "https://localhost:8080/"
        }
      },
      "execution_count": 6,
      "outputs": [
        {
          "output_type": "stream",
          "name": "stdout",
          "text": [
            "Collecting pdf2docx\n",
            "  Downloading pdf2docx-0.5.8-py3-none-any.whl.metadata (3.2 kB)\n",
            "Collecting PyMuPDF>=1.19.0 (from pdf2docx)\n",
            "  Downloading pymupdf-1.25.5-cp39-abi3-manylinux2014_x86_64.manylinux_2_17_x86_64.whl.metadata (3.4 kB)\n",
            "Collecting python-docx>=0.8.10 (from pdf2docx)\n",
            "  Downloading python_docx-1.1.2-py3-none-any.whl.metadata (2.0 kB)\n",
            "Requirement already satisfied: fonttools>=4.24.0 in /usr/local/lib/python3.11/dist-packages (from pdf2docx) (4.57.0)\n",
            "Requirement already satisfied: numpy>=1.17.2 in /usr/local/lib/python3.11/dist-packages (from pdf2docx) (2.0.2)\n",
            "Requirement already satisfied: opencv-python-headless>=4.5 in /usr/local/lib/python3.11/dist-packages (from pdf2docx) (4.11.0.86)\n",
            "Collecting fire>=0.3.0 (from pdf2docx)\n",
            "  Downloading fire-0.7.0.tar.gz (87 kB)\n",
            "\u001b[2K     \u001b[90m━━━━━━━━━━━━━━━━━━━━━━━━━━━━━━━━━━━━━━━━\u001b[0m \u001b[32m87.2/87.2 kB\u001b[0m \u001b[31m1.9 MB/s\u001b[0m eta \u001b[36m0:00:00\u001b[0m\n",
            "\u001b[?25h  Preparing metadata (setup.py) ... \u001b[?25l\u001b[?25hdone\n",
            "Requirement already satisfied: termcolor in /usr/local/lib/python3.11/dist-packages (from fire>=0.3.0->pdf2docx) (3.0.1)\n",
            "Requirement already satisfied: lxml>=3.1.0 in /usr/local/lib/python3.11/dist-packages (from python-docx>=0.8.10->pdf2docx) (5.3.1)\n",
            "Requirement already satisfied: typing-extensions>=4.9.0 in /usr/local/lib/python3.11/dist-packages (from python-docx>=0.8.10->pdf2docx) (4.13.1)\n",
            "Downloading pdf2docx-0.5.8-py3-none-any.whl (132 kB)\n",
            "\u001b[2K   \u001b[90m━━━━━━━━━━━━━━━━━━━━━━━━━━━━━━━━━━━━━━━━\u001b[0m \u001b[32m132.0/132.0 kB\u001b[0m \u001b[31m5.2 MB/s\u001b[0m eta \u001b[36m0:00:00\u001b[0m\n",
            "\u001b[?25hDownloading pymupdf-1.25.5-cp39-abi3-manylinux2014_x86_64.manylinux_2_17_x86_64.whl (20.0 MB)\n",
            "\u001b[2K   \u001b[90m━━━━━━━━━━━━━━━━━━━━━━━━━━━━━━━━━━━━━━━━\u001b[0m \u001b[32m20.0/20.0 MB\u001b[0m \u001b[31m77.7 MB/s\u001b[0m eta \u001b[36m0:00:00\u001b[0m\n",
            "\u001b[?25hDownloading python_docx-1.1.2-py3-none-any.whl (244 kB)\n",
            "\u001b[2K   \u001b[90m━━━━━━━━━━━━━━━━━━━━━━━━━━━━━━━━━━━━━━━━\u001b[0m \u001b[32m244.3/244.3 kB\u001b[0m \u001b[31m21.8 MB/s\u001b[0m eta \u001b[36m0:00:00\u001b[0m\n",
            "\u001b[?25hBuilding wheels for collected packages: fire\n",
            "  Building wheel for fire (setup.py) ... \u001b[?25l\u001b[?25hdone\n",
            "  Created wheel for fire: filename=fire-0.7.0-py3-none-any.whl size=114249 sha256=c9745cda3ba549d86c0a8777d152306360862336f0016767d8b9c9bfc9859604\n",
            "  Stored in directory: /root/.cache/pip/wheels/46/54/24/1624fd5b8674eb1188623f7e8e17cdf7c0f6c24b609dfb8a89\n",
            "Successfully built fire\n",
            "Installing collected packages: python-docx, PyMuPDF, fire, pdf2docx\n",
            "Successfully installed PyMuPDF-1.25.5 fire-0.7.0 pdf2docx-0.5.8 python-docx-1.1.2\n",
            "failed\n"
          ]
        }
      ]
    },
    {
      "cell_type": "code",
      "source": [
        "import os\n",
        "print(os.getcwd())"
      ],
      "metadata": {
        "id": "RKdJo3PrAqnc",
        "outputId": "da89e922-1eb5-43fd-ee21-1a12136c8729",
        "colab": {
          "base_uri": "https://localhost:8080/"
        }
      },
      "execution_count": 7,
      "outputs": [
        {
          "output_type": "stream",
          "name": "stdout",
          "text": [
            "/content\n"
          ]
        }
      ]
    },
    {
      "cell_type": "code",
      "source": [
        "import os\n",
        "\n",
        "os.chdir('/content/Tushar_Python/')\n",
        "\n"
      ],
      "metadata": {
        "id": "aKBZIVA_BBlI"
      },
      "execution_count": 16,
      "outputs": []
    },
    {
      "cell_type": "code",
      "source": [
        "print(os.getcwd())"
      ],
      "metadata": {
        "id": "yH3AwjzJB3t_",
        "outputId": "b9d56395-1f25-4e63-a047-fe7fbed86a37",
        "colab": {
          "base_uri": "https://localhost:8080/"
        }
      },
      "execution_count": 17,
      "outputs": [
        {
          "output_type": "stream",
          "name": "stdout",
          "text": [
            "/content/Tushar_Python\n"
          ]
        }
      ]
    },
    {
      "cell_type": "code",
      "source": [
        "ls /content/Tushar_Python"
      ],
      "metadata": {
        "id": "mi1AZhjqB8Bl",
        "outputId": "149ee1da-9e1c-4f8e-f0fc-77532689a219",
        "colab": {
          "base_uri": "https://localhost:8080/"
        }
      },
      "execution_count": 18,
      "outputs": [
        {
          "output_type": "stream",
          "name": "stdout",
          "text": [
            "Day1_ML_journey.ipynb  test_pdf.pdf\n"
          ]
        }
      ]
    },
    {
      "cell_type": "code",
      "source": [
        "!pip install pdf2docx\n",
        "from pdf2docx import Converter\n",
        "import os\n",
        "\n",
        "def pdfconvert(pdf_path,word_path=None):\n",
        "  word_path=os.path.splitext(pdf_path)[0]+'.docx'\n",
        "  try:\n",
        "    cv=Converter(pdf_path)\n",
        "    cv.convert(word_path,start=0,end=None)\n",
        "    cv.close()\n",
        "    print(\"Done\")\n",
        "    return word_path\n",
        "  except Exception as e:\n",
        "    print(\"failed\")\n",
        "    return None\n",
        "\n",
        "if(__name__==\"__main__\"):\n",
        "  input_pdf=\"test_pdf.pdf\"\n",
        "  output_word=''\n",
        "  pdfconvert(input_pdf,output_word)\n"
      ],
      "metadata": {
        "id": "z5lK717YCA3g",
        "outputId": "6f355e7b-24ef-4c27-8d03-8afa7fd077a5",
        "colab": {
          "base_uri": "https://localhost:8080/"
        }
      },
      "execution_count": 19,
      "outputs": [
        {
          "output_type": "stream",
          "name": "stdout",
          "text": [
            "Requirement already satisfied: pdf2docx in /usr/local/lib/python3.11/dist-packages (0.5.8)\n",
            "Requirement already satisfied: PyMuPDF>=1.19.0 in /usr/local/lib/python3.11/dist-packages (from pdf2docx) (1.25.5)\n",
            "Requirement already satisfied: python-docx>=0.8.10 in /usr/local/lib/python3.11/dist-packages (from pdf2docx) (1.1.2)\n",
            "Requirement already satisfied: fonttools>=4.24.0 in /usr/local/lib/python3.11/dist-packages (from pdf2docx) (4.57.0)\n",
            "Requirement already satisfied: numpy>=1.17.2 in /usr/local/lib/python3.11/dist-packages (from pdf2docx) (2.0.2)\n",
            "Requirement already satisfied: opencv-python-headless>=4.5 in /usr/local/lib/python3.11/dist-packages (from pdf2docx) (4.11.0.86)\n",
            "Requirement already satisfied: fire>=0.3.0 in /usr/local/lib/python3.11/dist-packages (from pdf2docx) (0.7.0)\n",
            "Requirement already satisfied: termcolor in /usr/local/lib/python3.11/dist-packages (from fire>=0.3.0->pdf2docx) (3.0.1)\n",
            "Requirement already satisfied: lxml>=3.1.0 in /usr/local/lib/python3.11/dist-packages (from python-docx>=0.8.10->pdf2docx) (5.3.1)\n",
            "Requirement already satisfied: typing-extensions>=4.9.0 in /usr/local/lib/python3.11/dist-packages (from python-docx>=0.8.10->pdf2docx) (4.13.1)\n",
            "Done\n"
          ]
        }
      ]
    },
    {
      "cell_type": "code",
      "source": [
        "ls /content/Tushar_Python/\n"
      ],
      "metadata": {
        "id": "r7LaTsyoCHbN",
        "outputId": "c8ab1796-17cb-4cb9-82aa-0c25c6eed194",
        "colab": {
          "base_uri": "https://localhost:8080/"
        }
      },
      "execution_count": 20,
      "outputs": [
        {
          "output_type": "stream",
          "name": "stdout",
          "text": [
            "Day1_ML_journey.ipynb  test_pdf.docx  test_pdf.pdf\n"
          ]
        }
      ]
    },
    {
      "cell_type": "code",
      "source": [
        "!cp test_pdf.pdf https://github.com/tusharrakhunde1/Tushar_Python\n",
        "!cd https://github.com/tusharrakhunde1/Tushar_Python\n",
        "!git add .\n",
        "!git commit -m \"Adding my file\"\n",
        "!git push origin main"
      ],
      "metadata": {
        "id": "duVMhhl7CXO5",
        "outputId": "30f3487a-a205-4d37-aee6-b7a14aab53f9",
        "colab": {
          "base_uri": "https://localhost:8080/"
        }
      },
      "execution_count": 21,
      "outputs": [
        {
          "output_type": "stream",
          "name": "stdout",
          "text": [
            "cp: cannot create regular file 'https://github.com/tusharrakhunde1/Tushar_Python': No such file or directory\n",
            "/bin/bash: line 1: cd: https://github.com/tusharrakhunde1/Tushar_Python: No such file or directory\n",
            "Author identity unknown\n",
            "\n",
            "*** Please tell me who you are.\n",
            "\n",
            "Run\n",
            "\n",
            "  git config --global user.email \"you@example.com\"\n",
            "  git config --global user.name \"Your Name\"\n",
            "\n",
            "to set your account's default identity.\n",
            "Omit --global to set the identity only in this repository.\n",
            "\n",
            "fatal: unable to auto-detect email address (got 'root@0c50536f6658.(none)')\n",
            "fatal: could not read Username for 'https://github.com': No such device or address\n"
          ]
        }
      ]
    }
  ]
}